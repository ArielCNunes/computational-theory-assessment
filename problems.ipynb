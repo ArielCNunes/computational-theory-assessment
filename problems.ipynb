{
 "cells": [
  {
   "cell_type": "markdown",
   "id": "6fb7bc8a",
   "metadata": {},
   "source": [
    "# COMPUTATIONAL THEORY PROBLEMS"
   ]
  },
  {
   "cell_type": "code",
   "execution_count": 118,
   "id": "bb0b3bc2",
   "metadata": {},
   "outputs": [],
   "source": [
    "# IMPORTS\n",
    "import numpy as np"
   ]
  },
  {
   "cell_type": "markdown",
   "id": "502e3ebc",
   "metadata": {},
   "source": [
    "## Problem 1: Binary Words and Operations\n",
    "SHA-256 uses seven core bitwise functions that operate on 32-bit words. These functions manipulate individual bits using logical operations (```AND, OR, XOR, NOT```) and bit shifts/rotations. All operations must be performed with 32-bit arithmetic to match the SHA-256 specification."
   ]
  },
  {
   "cell_type": "markdown",
   "id": "b71ff21c",
   "metadata": {},
   "source": [
    "### 1.1 Parity Function - computes the bitwise XOR of three 32-bit words\n",
    "\n",
    "**How this function works:** It takes three integers and converts them to 32-bit integers (``` np.uint32 ```). It performs ```XOR``` operations which compare bits pairwise, returning 1 when bits are different and 0 when they're the same."
   ]
  },
  {
   "cell_type": "code",
   "execution_count": 119,
   "id": "a59b6950",
   "metadata": {},
   "outputs": [],
   "source": [
    "def Parity(x, y, z):\n",
    "    \"\"\"\n",
    "    Parity function [see 1, p.10, eq. 4.1].\n",
    "    \n",
    "    Returns the XOR of three 32-bit words: x ⊕ y ⊕ z\n",
    "    \n",
    "    For each bit position, returns 1 if an odd number of inputs \n",
    "    have a 1 bit at that position.\n",
    "    \n",
    "    Args:\n",
    "        x, y, z: 32-bit unsigned integers\n",
    "        \n",
    "    Returns:\n",
    "        32-bit unsigned integer\n",
    "    \"\"\"\n",
    "    x = np.uint32(x)\n",
    "    y = np.uint32(y)\n",
    "    z = np.uint32(z)\n",
    "    \n",
    "    return x ^ y ^ z\n"
   ]
  },
  {
   "cell_type": "code",
   "execution_count": 120,
   "id": "5e662e52",
   "metadata": {},
   "outputs": [
    {
     "name": "stdout",
     "output_type": "stream",
     "text": [
      "Testing Parity:\n",
      "Parity(0xF, 0xF, 0xF) = 0xf\n",
      "Parity(0xABCD, 0x1234, 0x1234) = 0xabcd\n",
      "Parity(0x0, 0x0, 0x0) = 0x0\n",
      "Parity(0xFFFFFFFF, 0xFFFFFFFF, 0xFFFFFFFF) = 0xffffffff\n"
     ]
    }
   ],
   "source": [
    "# Test Parity function\n",
    "print(\"Testing Parity:\")\n",
    "\n",
    "# Test 1: Basic XOR property\n",
    "print(f\"Parity(0xF, 0xF, 0xF) = {Parity(0xF, 0xF, 0xF):#x}\")  # Should be 0xF\n",
    "\n",
    "# Test 2: Cancellation (x ⊕ y ⊕ y = x)\n",
    "print(f\"Parity(0xABCD, 0x1234, 0x1234) = {Parity(0xABCD, 0x1234, 0x1234):#x}\")  # Should be 0xABCD\n",
    "\n",
    "# Test 3: All zeros\n",
    "print(f\"Parity(0x0, 0x0, 0x0) = {Parity(0x0, 0x0, 0x0):#x}\")  # Should be 0x0\n",
    "\n",
    "# Test 4: All ones\n",
    "print(f\"Parity(0xFFFFFFFF, 0xFFFFFFFF, 0xFFFFFFFF) = {Parity(0xFFFFFFFF, 0xFFFFFFFF, 0xFFFFFFFF):#010x}\")  # Should be 0xFFFFFFFF"
   ]
  },
  {
   "cell_type": "markdown",
   "id": "6fc1f2c7",
   "metadata": {},
   "source": [
    "### 1.2 Ch (Choose) Function - Select bits from y or z based on x\n",
    "\n",
    "**How this function works:** The idea here is the same as in the Parity function (see 1.1) but instead of only doing ```XOR``` operations we first do an ```AND``` operation between x and y, then we do an ```AND``` operation between the ```NOT``` of x and z. Finally, we ```XOR``` these two results together. The ```AND``` operations act as filters that select which bits to keep from y and z, while the ```XOR``` combines them into the final result. \n",
    "\n",
    "```(x & y)``` is just a basic ```AND``` operation (if both bits are 1 it returns 1). \n",
    "\n",
    "```(~x & z)``` flips all bits in x before carrying out the ```AND``` operation with z.\n",
    "\n",
    "We then XOR the result of these two operations."
   ]
  },
  {
   "cell_type": "code",
   "execution_count": 121,
   "id": "b7c68cb9",
   "metadata": {},
   "outputs": [],
   "source": [
    "def Ch(x, y, z):\n",
    "    \"\"\"\n",
    "    Choose function [see 1, p.10, eq. 4.2].\n",
    "\n",
    "    Bitwise choice function for SHA-256.\n",
    "    \n",
    "    For each bit position, returns the bit from y if the corresponding\n",
    "    bit in x is 1, otherwise returns the bit from z\n",
    "\n",
    "    Args:\n",
    "        x, y, z: 32-bit unsigned integers\n",
    "\n",
    "    Returns:\n",
    "        32-bit unsigned integer result of the bitwise choice operation\n",
    "    \"\"\"\n",
    "    x = np.uint32(x)\n",
    "    y = np.uint32(y)\n",
    "    z = np.uint32(z)\n",
    "    \n",
    "    return (x & y) ^ (~x & z)"
   ]
  },
  {
   "cell_type": "code",
   "execution_count": 122,
   "id": "86e37d96",
   "metadata": {},
   "outputs": [
    {
     "name": "stdout",
     "output_type": "stream",
     "text": [
      "Testing Ch:\n",
      "Ch(0xFFFFFFFF, 0xAAAAAAAA, 0x55555555) = 0xaaaaaaaa\n",
      "Ch(0x00000000, 0xAAAAAAAA, 0x55555555) = 0x55555555\n",
      "Ch(0xF0F0F0F0, 0xFFFFFFFF, 0x00000000) = 0xf0f0f0f0\n"
     ]
    }
   ],
   "source": [
    "# Test Ch function\n",
    "print(\"Testing Ch:\")\n",
    "\n",
    "# Test 1: All 1s in x selects -> y entirely\n",
    "print(f\"Ch(0xFFFFFFFF, 0xAAAAAAAA, 0x55555555) = {Ch(0xFFFFFFFF, 0xAAAAAAAA, 0x55555555):#010x}\")  # Should be 0xAAAAAAAA\n",
    "\n",
    "# Test 2: All 0s in x selects -> z entirely\n",
    "print(f\"Ch(0x00000000, 0xAAAAAAAA, 0x55555555) = {Ch(0x00000000, 0xAAAAAAAA, 0x55555555):#010x}\")  # Should be 0x55555555\n",
    "\n",
    "# Test 3: Mixed selector - alternates between y and z\n",
    "print(f\"Ch(0xF0F0F0F0, 0xFFFFFFFF, 0x00000000) = {Ch(0xF0F0F0F0, 0xFFFFFFFF, 0x00000000):#010x}\")  # Should be 0xF0F0F0F0"
   ]
  },
  {
   "cell_type": "markdown",
   "id": "0ff2e845",
   "metadata": {},
   "source": [
    "### 1.3 Maj (Majority) Function - Returns the value that appears in at least 2 out of 3 inputs\n",
    "\n",
    "**How this function works:** We perform three ```AND``` operations to find where pairs of inputs are the same (`x & y`, `x & z`, `y & z`), then ```XOR``` these results together. This produces 1 at positions where at least two inputs have 1."
   ]
  },
  {
   "cell_type": "code",
   "execution_count": 123,
   "id": "0104e16b",
   "metadata": {},
   "outputs": [],
   "source": [
    "def Maj(x, y, z):\n",
    "    \"\"\"\n",
    "    Majority function [see 1, p.10, eq. 4.3].\n",
    "    Used in SHA-256 compression function [see 1, p.22-23].\n",
    "    \n",
    "    For each bit position, returns the bit value that appears \n",
    "    in at least 2 of the 3 inputs (the majority).\n",
    "    \n",
    "    Args:\n",
    "        x, y, z: 32-bit unsigned integers\n",
    "        \n",
    "    Returns:\n",
    "        32-bit unsigned integer\n",
    "    \"\"\"\n",
    "    x = np.uint32(x)\n",
    "    y = np.uint32(y)\n",
    "    z = np.uint32(z)\n",
    "    \n",
    "    return (x & y) ^ (x & z) ^ (y & z)"
   ]
  },
  {
   "cell_type": "code",
   "execution_count": 124,
   "id": "9e42ec71",
   "metadata": {},
   "outputs": [
    {
     "name": "stdout",
     "output_type": "stream",
     "text": [
      "Testing Maj:\n",
      "Maj(0xFFFFFFFF, 0xFFFFFFFF, 0x00000000) = 0xffffffff\n",
      "Maj(0x00000000, 0xFFFFFFFF, 0xFFFFFFFF) = 0xffffffff\n",
      "Maj(0xAAAAAAAA, 0xAAAAAAAA, 0xAAAAAAAA) = 0xaaaaaaaa\n"
     ]
    }
   ],
   "source": [
    "# Test Maj function\n",
    "print(\"Testing Maj:\")\n",
    "\n",
    "# Test 1: Two inputs the same\n",
    "print(f\"Maj(0xFFFFFFFF, 0xFFFFFFFF, 0x00000000) = {Maj(0xFFFFFFFF, 0xFFFFFFFF, 0x00000000):#010x}\")  # Should be 0xFFFFFFFF (majority is 1)\n",
    "\n",
    "# Test 2: Two inputs the same (other pattern)\n",
    "print(f\"Maj(0x00000000, 0xFFFFFFFF, 0xFFFFFFFF) = {Maj(0x00000000, 0xFFFFFFFF, 0xFFFFFFFF):#010x}\")  # Should be 0xFFFFFFFF\n",
    "\n",
    "# Test 3: All same\n",
    "print(f\"Maj(0xAAAAAAAA, 0xAAAAAAAA, 0xAAAAAAAA) = {Maj(0xAAAAAAAA, 0xAAAAAAAA, 0xAAAAAAAA):#010x}\")  # Should be 0xAAAAAAAA"
   ]
  },
  {
   "cell_type": "markdown",
   "id": "d2b371e1",
   "metadata": {},
   "source": [
    "### 1.4 - 1.7 Rotation and Shift Operations\n",
    "\n",
    "**How these functions work:** These four functions use rotation (ROTR) and shift (SHR) operations instead of logical operations. \n",
    "\n",
    "**ROTR^n(x)** (Rotate Right): Moves all bits n positions to the right. Bits that fall off the right side are placed back in the left side. No bits are lost.\n",
    "\n",
    "**SHR^n(x)** (Shift Right): Moves all bits n positions to the right. Bits that fall off the right are lost, and we fill the empty slots with zeros.\n",
    "\n",
    "**Functions 1.4-1.5 (Σ₀ and Σ₁):** Use only ROTR operations.\n",
    "\n",
    "**Functions 1.6-1.7 (σ₀ and σ₁):** Use both ROTR and SHR operations."
   ]
  },
  {
   "cell_type": "code",
   "execution_count": 125,
   "id": "b7ad2cc4",
   "metadata": {},
   "outputs": [],
   "source": [
    "# Rotate Right\n",
    "def ROTR(x, n):\n",
    "    \"\"\"\n",
    "    Rotate right (circular right shift).\n",
    "    \n",
    "    ROTR^n(x) = (x >> n) ∨ (x << (32 - n))\n",
    "    \n",
    "    Moves bits n positions to the right, placing bits that \n",
    "    fall off back to the left side.\n",
    "    \n",
    "    Args:\n",
    "        x: 32-bit unsigned integer\n",
    "        n: number of positions to rotate (needs to be in range 0-31 and >= 0)\n",
    "        \n",
    "    Returns:\n",
    "        32-bit unsigned integer\n",
    "    \"\"\"\n",
    "    x = np.uint32(x)\n",
    "    \n",
    "    return (x >> n) | (x << (32 - n))"
   ]
  },
  {
   "cell_type": "code",
   "execution_count": 126,
   "id": "5566c799",
   "metadata": {},
   "outputs": [],
   "source": [
    "# Shift Right\n",
    "def SHR(x, n):\n",
    "    \"\"\"\n",
    "    Shift right.\n",
    "    \n",
    "    SHR^n(x) = x >> n (shift by n times)\n",
    "    \n",
    "    Moves bits n positions to the right, filling left side with zeros.\n",
    "    Bits that fall off the right get lost.\n",
    "    \n",
    "    Args:\n",
    "        x: 32-bit unsigned integer\n",
    "        n: number of positions to shift (0 ≤ n < 32)\n",
    "        \n",
    "    Returns:\n",
    "        32-bit unsigned integer\n",
    "    \"\"\"\n",
    "    x = np.uint32(x)\n",
    "    \n",
    "    return x >> n"
   ]
  },
  {
   "cell_type": "markdown",
   "id": "7c414701",
   "metadata": {},
   "source": [
    "### 1.4 Sigma0 (Σ₀)\n",
    "\n",
    "Combines three rotations of x (ROTR by 2, 13, and 22 bits in this case) using ```XOR```. Creates diffusion by mixing bits from different positions."
   ]
  },
  {
   "cell_type": "code",
   "execution_count": 127,
   "id": "9fcfd053",
   "metadata": {},
   "outputs": [],
   "source": [
    "def Sigma0(x):\n",
    "    \"\"\"\n",
    "    Sigma0 function [see 1, p.10, eq. 4.4].\n",
    "    Used in SHA-256 compression function to calculate T₂ [see 1, p.22-23].\n",
    "    \n",
    "    Σ₀(x) = ROTR²(x) ⊕ ROTR¹³(x) ⊕ ROTR²²(x)\n",
    "    \n",
    "    Args:\n",
    "        x: 32-bit unsigned integer\n",
    "        \n",
    "    Returns:\n",
    "        32-bit unsigned integer\n",
    "    \"\"\"\n",
    "    x = np.uint32(x)\n",
    "    \n",
    "    return ROTR(x, 2) ^ ROTR(x, 13) ^ ROTR(x, 22)"
   ]
  },
  {
   "cell_type": "code",
   "execution_count": 128,
   "id": "6e6c6e7e",
   "metadata": {},
   "outputs": [
    {
     "name": "stdout",
     "output_type": "stream",
     "text": [
      "Testing Sigma0:\n",
      "Sigma0(0x00000000) = 0x00000000\n",
      "Sigma0(0xFFFFFFFF) = 0XFFFFFFFF\n",
      "Sigma0(0x12345678) = 0x66146474\n"
     ]
    }
   ],
   "source": [
    "# Test Sigma0\n",
    "print(\"Testing Sigma0:\")\n",
    "print(f\"Sigma0(0x00000000) = {Sigma0(0x00000000):#010x}\")  # Should be 0x00000000\n",
    "print(f\"Sigma0(0xFFFFFFFF) = {Sigma0(0xFFFFFFFF):#010X}\")  # Should be 0xFFFFFFFF\n",
    "print(f\"Sigma0(0x12345678) = {Sigma0(0x12345678):#010x}\")  # Real scrambling testing"
   ]
  },
  {
   "cell_type": "markdown",
   "id": "5a777741",
   "metadata": {},
   "source": [
    "### 1.5 Sigma1 (Σ₁)\n",
    "\n",
    "Combines three rotations of x (ROTR by 6, 11, and 25 bits) using ```XOR```. Same structure as Sigma0 but with different rotation amounts."
   ]
  },
  {
   "cell_type": "code",
   "execution_count": 129,
   "id": "5acaec54",
   "metadata": {},
   "outputs": [],
   "source": [
    "def Sigma1(x):\n",
    "    \"\"\"\n",
    "    Sigma1 function [see 1, p.10, eq. 4.5].\n",
    "    Used in SHA-256 compression function to calculate T₁ [see 1, p.22-23].\n",
    "\n",
    "    Args:\n",
    "        x: 32-bit unsigned integer\n",
    "        \n",
    "    Returns:\n",
    "        32-bit unsigned integer\n",
    "    \"\"\"\n",
    "    x = np.uint32(x)\n",
    "    \n",
    "    return ROTR(x, 6) ^ ROTR(x, 11) ^ ROTR(x, 25)"
   ]
  },
  {
   "cell_type": "code",
   "execution_count": 130,
   "id": "424a4779",
   "metadata": {},
   "outputs": [
    {
     "name": "stdout",
     "output_type": "stream",
     "text": [
      "Testing Sigma1:\n",
      "Sigma1(0x00000000) = 0x00000000\n",
      "Sigma1(0xFFFFFFFF) = 0xffffffff\n",
      "Sigma1(0x12345678) = 0x3561abda\n"
     ]
    }
   ],
   "source": [
    "# Test Sigma1\n",
    "print(\"Testing Sigma1:\")\n",
    "print(f\"Sigma1(0x00000000) = {Sigma1(0x00000000):#010x}\")  # Should be 0x00000000\n",
    "print(f\"Sigma1(0xFFFFFFFF) = {Sigma1(0xFFFFFFFF):#010x}\")  # Should be 0xFFFFFFFF\n",
    "print(f\"Sigma1(0x12345678) = {Sigma1(0x12345678):#010x}\")  # Real scrambling testing"
   ]
  },
  {
   "cell_type": "markdown",
   "id": "e5f02ba5",
   "metadata": {},
   "source": [
    "### 1.6 sigma0 (σ₀)\n",
    "\n",
    "Combines two rotations (by 7 and 18 bits) and one shift (by 3 bits) using ```XOR```. The shift operation means some bits are lost, unlike the uppercase Sigma functions."
   ]
  },
  {
   "cell_type": "code",
   "execution_count": 131,
   "id": "268272c2",
   "metadata": {},
   "outputs": [],
   "source": [
    "def sigma0(x):\n",
    "    \"\"\"\n",
    "    sigma0 function [see 1, p.10, eq. 4.6].\n",
    "    Used in message schedule expansion [see 1, p.22].\n",
    "    \n",
    "    Args:\n",
    "        x: 32-bit unsigned integer\n",
    "        \n",
    "    Returns:\n",
    "        32-bit unsigned integer\n",
    "    \"\"\"\n",
    "    x = np.uint32(x)\n",
    "    \n",
    "    return ROTR(x, 7) ^ ROTR(x, 18) ^ SHR(x, 3)"
   ]
  },
  {
   "cell_type": "markdown",
   "id": "4fe1cd55",
   "metadata": {},
   "source": [
    "### 1.7 sigma1 (σ₁)\n",
    "\n",
    "Combines two rotations (by 17 and 19 bits) and one shift (by 10 bits) using ```XOR```. Similar to sigma0, uses shift which loses bits."
   ]
  },
  {
   "cell_type": "code",
   "execution_count": 132,
   "id": "1589dedc",
   "metadata": {},
   "outputs": [],
   "source": [
    "def sigma1(x):\n",
    "    \"\"\"\n",
    "    sigma1 function [see 1, p.10, eq. 4.7].\n",
    "    Used in message schedule expansion [see 1, p.22, step 1].\n",
    "    \n",
    "    Args:\n",
    "        x: 32-bit unsigned integer\n",
    "        \n",
    "    Returns:\n",
    "        32-bit unsigned integer\n",
    "    \"\"\"\n",
    "    x = np.uint32(x)\n",
    "    \n",
    "    return ROTR(x, 17) ^ ROTR(x, 19) ^ SHR(x, 10)"
   ]
  },
  {
   "cell_type": "code",
   "execution_count": 133,
   "id": "af8c72a3",
   "metadata": {},
   "outputs": [
    {
     "name": "stdout",
     "output_type": "stream",
     "text": [
      "Testing sigma0:\n",
      "sigma0(0x00000000) = 0x00000000\n",
      "sigma0(0xFFFFFFFF) = 0x1fffffff\n",
      "sigma0(0x12345678) = 0xe7fce6ee\n",
      "\n",
      "Testing sigma1:\n",
      "sigma1(0x00000000) = 0x00000000\n",
      "sigma1(0xFFFFFFFF) = 0x003fffff\n",
      "sigma1(0x12345678) = 0xa1f78649\n"
     ]
    }
   ],
   "source": [
    "# Test sigma0 and sigma1\n",
    "print(\"Testing sigma0:\")\n",
    "print(f\"sigma0(0x00000000) = {sigma0(0x00000000):#010x}\")  # Should be 0x00000000\n",
    "print(f\"sigma0(0xFFFFFFFF) = {sigma0(0xFFFFFFFF):#010x}\")  # Should be 0x1FFFFFFF\n",
    "print(f\"sigma0(0x12345678) = {sigma0(0x12345678):#010x}\")  # Shows scrambling\n",
    "\n",
    "print(\"\\nTesting sigma1:\")\n",
    "print(f\"sigma1(0x00000000) = {sigma1(0x00000000):#010x}\")  # Should be 0x00000000\n",
    "print(f\"sigma1(0xFFFFFFFF) = {sigma1(0xFFFFFFFF):#010x}\")  # Should be 0x003FFFFF\n",
    "print(f\"sigma1(0x12345678) = {sigma1(0x12345678):#010x}\")  # Shows scrambling"
   ]
  },
  {
   "cell_type": "markdown",
   "id": "2ddf53d2",
   "metadata": {},
   "source": [
    "### Summary of Problem 1 Functions\n",
    "\n",
    "| Function | Type | Inputs | Operations | Used In |\n",
    "|----------|------|--------|------------|---------|\n",
    "| Parity | Logical | 3 | XOR | SHA-1 |\n",
    "| Ch | Logical | 3 | AND, NOT, XOR | Compression |\n",
    "| Maj | Logical | 3 | AND, XOR | Compression |\n",
    "| Σ₀ | Rotation | 1 | ROTR×3, XOR | Compression (T₂) |\n",
    "| Σ₁ | Rotation | 1 | ROTR×3, XOR | Compression (T₁) |\n",
    "| σ₀ | Mixed | 1 | ROTR×2, SHR×1, XOR | Message schedule |\n",
    "| σ₁ | Mixed | 1 | ROTR×2, SHR×1, XOR | Message schedule |"
   ]
  },
  {
   "cell_type": "markdown",
   "id": "ba9621c5",
   "metadata": {},
   "source": [
    "## Problem 2: Fractional Parts of Cube Roots\n",
    "\n",
    "This problem aims to create the 64 \"magic numbers\" that SHA-512 uses internally. These come from cube roots of the first 64 prime numbers [see 1, p.11], which ensures they're mathematically verifiable and not just random values. We'll showcase how to get to these values by following the steps below.\n",
    "\n",
    "**Steps:**\n",
    "1. Write a function `primes(n)` that generates the first n prime numbers\n",
    "2. Use the function to calculate the cube root of the first 64 primes\n",
    "3. For each cube root, extract the first 32 bits of the fractional part\n",
    "4. Display the result in hexadecimal\n",
    "5. Test the results against what is in the Secure Hash Standard"
   ]
  },
  {
   "cell_type": "code",
   "execution_count": 134,
   "id": "6432a232",
   "metadata": {},
   "outputs": [],
   "source": [
    "# 1. Function to generate first n prime numbers\n",
    "def primes(n):\n",
    "    \"\"\"Generate the first n prime numbers.\"\"\"\n",
    "    # If n is less than 1, return empty list\n",
    "    if n < 1:\n",
    "        return []\n",
    "    \n",
    "    prime_list = []\n",
    "    num = 2  # 2 is the first prime number\n",
    "    \n",
    "    # Keep finding primes until we have n of them\n",
    "    while len(prime_list) < n:\n",
    "        is_prime = True  # Assume the number is prime\n",
    "        \n",
    "        # Check if num is divisible by any number from 2 to num-1\n",
    "        for i in range(2, num):\n",
    "            if num % i == 0:  # If true, it's not prime\n",
    "                is_prime = False\n",
    "                break  # Stop here\n",
    "        \n",
    "        # If num passed all checks, it's prime, add it to our list\n",
    "        if is_prime:\n",
    "            prime_list.append(num)\n",
    "        \n",
    "        num += 1  # Move to the next number\n",
    "    \n",
    "    return prime_list\n"
   ]
  },
  {
   "cell_type": "code",
   "execution_count": 135,
   "id": "0be1231c",
   "metadata": {},
   "outputs": [],
   "source": [
    "# 2. Calculate cube roots of first 64 primes\n",
    "first_64_primes = primes(64)\n",
    "\n",
    "# Calculate cube roots using numpy\n",
    "cube_roots = np.cbrt(first_64_primes)"
   ]
  },
  {
   "cell_type": "code",
   "execution_count": 136,
   "id": "cc55bf5d",
   "metadata": {},
   "outputs": [
    {
     "name": "stdout",
     "output_type": "stream",
     "text": [
      "First 64 primes: [2, 3, 5, 7, 11, 13, 17, 19, 23, 29, 31, 37, 41, 43, 47, 53, 59, 61, 67, 71, 73, 79, 83, 89, 97, 101, 103, 107, 109, 113, 127, 131, 137, 139, 149, 151, 157, 163, 167, 173, 179, 181, 191, 193, 197, 199, 211, 223, 227, 229, 233, 239, 241, 251, 257, 263, 269, 271, 277, 281, 283, 293, 307, 311]\n",
      "Cube roots of first 64 primes: [1.25992105 1.44224957 1.70997595 1.91293118 2.22398009 2.35133469\n",
      " 2.57128159 2.66840165 2.84386698 3.07231683 3.14138065 3.33222185\n",
      " 3.44821724 3.50339806 3.60882608 3.75628575 3.89299642 3.93649718\n",
      " 4.0615481  4.14081775 4.1793392  4.29084043 4.36207067 4.4647451\n",
      " 4.59470089 4.65700951 4.68754815 4.7474594  4.77685618 4.83458813\n",
      " 5.0265257  5.07875308 5.15513674 5.18010147 5.30145919 5.32507402\n",
      " 5.39469071 5.46255557 5.50687845 5.57205466 5.63574079 5.65665283\n",
      " 5.75896522 5.77899657 5.81864787 5.83827246 5.95334181 6.06412699\n",
      " 6.1001702  6.11803317 6.15344949 6.20582179 6.22308425 6.30799355\n",
      " 6.35786118 6.40695858 6.45531481 6.47127363 6.51868392 6.54991162\n",
      " 6.56541443 6.6418522  6.74599671 6.77516895]\n"
     ]
    }
   ],
   "source": [
    "# Test prime generation and cube roots\n",
    "print(\"First 64 primes:\", first_64_primes)\n",
    "print(\"Cube roots of first 64 primes:\", cube_roots)"
   ]
  },
  {
   "cell_type": "code",
   "execution_count": 137,
   "id": "10dd8d4e",
   "metadata": {},
   "outputs": [
    {
     "name": "stdout",
     "output_type": "stream",
     "text": [
      "First 5 constants (decimal): [1116352408, 1899447441, 3049323471, 3921009573, 961987163]\n"
     ]
    }
   ],
   "source": [
    "# 3. Extract first 32 bits of fractional part of each cube root\n",
    "constants = []  # Store the 32-bit constants\n",
    "\n",
    "for root in cube_roots:\n",
    "    # Get everything after the decimal point\n",
    "    # If root = 1.2599, fractional_part = 0.2599\n",
    "    fractional_part = root - int(root)\n",
    "    \n",
    "    # Shift left by 32 bits (multiply by 2^32)\n",
    "    # This moves the first 32 bits of the fraction into the integer part\n",
    "    shifted = fractional_part * (2 ** 32)\n",
    "    \n",
    "    # Convert to integer to get just those 32 bits\n",
    "    int_value = int(shifted)\n",
    "    \n",
    "    # Add to our list of constants\n",
    "    constants.append(int_value)\n",
    "\n",
    "print(\"First 5 constants (decimal):\", constants[:5])\n"
   ]
  },
  {
   "cell_type": "markdown",
   "id": "3cc13ea8",
   "metadata": {},
   "source": [
    "## Problem 3: Padding"
   ]
  },
  {
   "cell_type": "code",
   "execution_count": 138,
   "id": "4121baf6",
   "metadata": {},
   "outputs": [],
   "source": [
    "# Problem 3"
   ]
  },
  {
   "cell_type": "markdown",
   "id": "75e817af",
   "metadata": {},
   "source": [
    "## Problem 4: Hashes"
   ]
  },
  {
   "cell_type": "code",
   "execution_count": 139,
   "id": "e64d4c93",
   "metadata": {},
   "outputs": [],
   "source": [
    "# Problem 4"
   ]
  },
  {
   "cell_type": "markdown",
   "id": "b7c0a991",
   "metadata": {},
   "source": [
    "## Problem 5: Passwords"
   ]
  },
  {
   "cell_type": "code",
   "execution_count": 140,
   "id": "18081596",
   "metadata": {},
   "outputs": [],
   "source": [
    "# Problem 5"
   ]
  },
  {
   "cell_type": "markdown",
   "id": "8fa8fadd",
   "metadata": {},
   "source": [
    "## References\n",
    "\n",
    "[1] National Institute of Standards and Technology. (2015). *Secure Hash Standard (SHS)*. FIPS PUB 180-4. Available at: https://nvlpubs.nist.gov/nistpubs/FIPS/NIST.FIPS.180-4.pdf\n",
    "\n",
    "[2] Wikipedia contributors. (2025). *SHA-2*. In Wikipedia, The Free Encyclopedia. Available at: https://en.wikipedia.org/wiki/SHA-2\n"
   ]
  },
  {
   "cell_type": "markdown",
   "id": "1670d5e0",
   "metadata": {},
   "source": [
    "# END"
   ]
  }
 ],
 "metadata": {
  "kernelspec": {
   "display_name": "Python 3",
   "language": "python",
   "name": "python3"
  },
  "language_info": {
   "codemirror_mode": {
    "name": "ipython",
    "version": 3
   },
   "file_extension": ".py",
   "mimetype": "text/x-python",
   "name": "python",
   "nbconvert_exporter": "python",
   "pygments_lexer": "ipython3",
   "version": "3.12.1"
  }
 },
 "nbformat": 4,
 "nbformat_minor": 5
}
