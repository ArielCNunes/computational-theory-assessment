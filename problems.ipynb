{
 "cells": [
  {
   "cell_type": "markdown",
   "id": "6fb7bc8a",
   "metadata": {},
   "source": [
    "# COMPUTATIONAL THEORY PROBLEMS"
   ]
  },
  {
   "cell_type": "code",
   "execution_count": 100,
   "id": "bb0b3bc2",
   "metadata": {},
   "outputs": [],
   "source": [
    "# IMPORTS\n",
    "import numpy as np"
   ]
  },
  {
   "cell_type": "markdown",
   "id": "502e3ebc",
   "metadata": {},
   "source": [
    "## Problem 1: Binary Words and Operations\n",
    "SHA-256 uses seven core bitwise functions that operate on 32-bit words. These functions manipulate individual bits using logical operations (```AND, OR, XOR, NOT```) and bit shifts/rotations. All operations must be performed with 32-bit arithmetic to match the SHA-256 specification."
   ]
  },
  {
   "cell_type": "markdown",
   "id": "b71ff21c",
   "metadata": {},
   "source": [
    "### 1.1 Parity Function - computes the bitwise XOR of three 32-bit words\n",
    "\n",
    "**How this function works:** It takes three integers and converts them to 32-bit integers (``` np.uint32 ```). It performs ```XOR``` operations which compare bits pairwise, returning 1 when bits are different and 0 when they're the same."
   ]
  },
  {
   "cell_type": "code",
   "execution_count": 101,
   "id": "a59b6950",
   "metadata": {},
   "outputs": [],
   "source": [
    "def Parity(x, y, z):\n",
    "    \"\"\"\n",
    "    Bitwise parity function for SHA-256.\n",
    "    \n",
    "    Returns the XOR of three 32-bit words: x ⊕ y ⊕ z\n",
    "    \n",
    "    For each bit position, returns 1 if an odd number of inputs \n",
    "    have a 1 bit at that position.\n",
    "    \n",
    "    Args:\n",
    "        x, y, z: 32-bit unsigned integers\n",
    "        \n",
    "    Returns:\n",
    "        32-bit unsigned integer\n",
    "    \"\"\"\n",
    "    x = np.uint32(x)\n",
    "    y = np.uint32(y)\n",
    "    z = np.uint32(z)\n",
    "    \n",
    "    return x ^ y ^ z\n"
   ]
  },
  {
   "cell_type": "code",
   "execution_count": 102,
   "id": "5e662e52",
   "metadata": {},
   "outputs": [
    {
     "name": "stdout",
     "output_type": "stream",
     "text": [
      "Testing Parity:\n",
      "Parity(0xF, 0xF, 0xF) = 0xf\n",
      "Parity(0xABCD, 0x1234, 0x1234) = 0xabcd\n",
      "Parity(0x0, 0x0, 0x0) = 0x0\n",
      "Parity(0xFFFFFFFF, 0xFFFFFFFF, 0xFFFFFFFF) = 0xffffffff\n"
     ]
    }
   ],
   "source": [
    "# Test Parity function\n",
    "print(\"Testing Parity:\")\n",
    "\n",
    "# Test 1: Basic XOR property\n",
    "print(f\"Parity(0xF, 0xF, 0xF) = {Parity(0xF, 0xF, 0xF):#x}\")  # Should be 0xF\n",
    "\n",
    "# Test 2: Cancellation (x ⊕ y ⊕ y = x)\n",
    "print(f\"Parity(0xABCD, 0x1234, 0x1234) = {Parity(0xABCD, 0x1234, 0x1234):#x}\")  # Should be 0xABCD\n",
    "\n",
    "# Test 3: All zeros\n",
    "print(f\"Parity(0x0, 0x0, 0x0) = {Parity(0x0, 0x0, 0x0):#x}\")  # Should be 0x0\n",
    "\n",
    "# Test 4: All ones\n",
    "print(f\"Parity(0xFFFFFFFF, 0xFFFFFFFF, 0xFFFFFFFF) = {Parity(0xFFFFFFFF, 0xFFFFFFFF, 0xFFFFFFFF):#010x}\")  # Should be 0xFFFFFFFF"
   ]
  },
  {
   "cell_type": "markdown",
   "id": "6fc1f2c7",
   "metadata": {},
   "source": [
    "### 1.2 Ch (Choose) Function - Select bits from y or z based on x\n",
    "\n",
    "**How this function works:** The idea here is the same as in the Parity function (see 1.1) but instead of only doing ```XOR``` operations we first do an ```AND``` operation between x and y, then we do an ```AND``` operation between the ```NOT``` of x and z. Finally, we ```XOR``` these two results together. The ```AND``` operations act as filters that select which bits to keep from y and z, while the ```XOR``` combines them into the final result. \n",
    "\n",
    "```(x & y)``` is just a basic ```AND``` operation (if both bits are 1 it returns 1). \n",
    "\n",
    "```(~x & z)``` flips all bits in x before carrying out the ```AND``` operation with z.\n",
    "\n",
    "We then XOR the result of these two operations."
   ]
  },
  {
   "cell_type": "code",
   "execution_count": 103,
   "id": "b7c68cb9",
   "metadata": {},
   "outputs": [],
   "source": [
    "def Ch(x, y, z):\n",
    "    \"\"\"\n",
    "    Bitwise choice function for SHA-256.\n",
    "    \n",
    "    For each bit position, returns the bit from y if the corresponding\n",
    "    bit in x is 1, otherwise returns the bit from z\n",
    "\n",
    "    Args:\n",
    "        x, y, z: 32-bit unsigned integers\n",
    "\n",
    "    Returns:\n",
    "        32-bit unsigned integer result of the bitwise choice operation\n",
    "    \"\"\"\n",
    "    x = np.uint32(x)\n",
    "    y = np.uint32(y)\n",
    "    z = np.uint32(z)\n",
    "    \n",
    "    return (x & y) ^ (~x & z)"
   ]
  },
  {
   "cell_type": "code",
   "execution_count": 104,
   "id": "86e37d96",
   "metadata": {},
   "outputs": [
    {
     "name": "stdout",
     "output_type": "stream",
     "text": [
      "Testing Ch:\n",
      "Ch(0xFFFFFFFF, 0xAAAAAAAA, 0x55555555) =  2863311530\n",
      "Ch(0x00000000, 0xAAAAAAAA, 0x55555555) = 0x55555555\n",
      "Ch(0xF0F0F0F0, 0xFFFFFFFF, 0x00000000) = 0xf0f0f0f0\n"
     ]
    }
   ],
   "source": [
    "# Test Ch function\n",
    "print(\"Testing Ch:\")\n",
    "\n",
    "# Test 1: All 1s in x selects -> y entirely\n",
    "print(f\"Ch(0xFFFFFFFF, 0xAAAAAAAA, 0x55555555) = {Ch(0xFFFFFFFF, 0xAAAAAAAA, 0x55555555): }\")  # Should be 0xAAAAAAAA\n",
    "\n",
    "# Test 2: All 0s in x selects -> z entirely\n",
    "print(f\"Ch(0x00000000, 0xAAAAAAAA, 0x55555555) = {Ch(0x00000000, 0xAAAAAAAA, 0x55555555):#010x}\")  # Should be 0x55555555\n",
    "\n",
    "# Test 3: Mixed selector - alternates between y and z\n",
    "print(f\"Ch(0xF0F0F0F0, 0xFFFFFFFF, 0x00000000) = {Ch(0xF0F0F0F0, 0xFFFFFFFF, 0x00000000):#010x}\")  # Should be 0xF0F0F0F0"
   ]
  },
  {
   "cell_type": "markdown",
   "id": "0ff2e845",
   "metadata": {},
   "source": [
    "### 1.3 Maj (Majority) Function - returns the value that appears in at least 2 out of 3 inputs\n",
    "\n",
    "**How this function works:** We perform three ```AND``` operations to find where pairs of inputs are the same (`x & y`, `x & z`, `y & z`), then ```XOR``` these results together. This produces 1 at positions where at least two inputs have 1."
   ]
  },
  {
   "cell_type": "code",
   "execution_count": 105,
   "id": "0104e16b",
   "metadata": {},
   "outputs": [],
   "source": [
    "def Maj(x, y, z):\n",
    "    \"\"\"\n",
    "    Majority function for SHA-256.\n",
    "    \n",
    "    Maj(x, y, z) = (x ∧ y) ⊕ (x ∧ z) ⊕ (y ∧ z)\n",
    "    \n",
    "    For each bit position, returns the bit value that appears \n",
    "    in at least 2 of the 3 inputs (the majority).\n",
    "    \n",
    "    Args:\n",
    "        x, y, z: 32-bit unsigned integers\n",
    "        \n",
    "    Returns:\n",
    "        32-bit unsigned integer\n",
    "    \"\"\"\n",
    "    x = np.uint32(x)\n",
    "    y = np.uint32(y)\n",
    "    z = np.uint32(z)\n",
    "    \n",
    "    return (x & y) ^ (x & z) ^ (y & z)"
   ]
  },
  {
   "cell_type": "code",
   "execution_count": 106,
   "id": "9e42ec71",
   "metadata": {},
   "outputs": [
    {
     "name": "stdout",
     "output_type": "stream",
     "text": [
      "Testing Maj:\n",
      "Maj(0xFFFFFFFF, 0xFFFFFFFF, 0x00000000) = 0xffffffff\n",
      "Maj(0x00000000, 0xFFFFFFFF, 0xFFFFFFFF) = 0xffffffff\n",
      "Maj(0xAAAAAAAA, 0xAAAAAAAA, 0xAAAAAAAA) = 0xaaaaaaaa\n"
     ]
    }
   ],
   "source": [
    "# Test Maj function\n",
    "print(\"Testing Maj:\")\n",
    "\n",
    "# Test 1: Two inputs the same\n",
    "print(f\"Maj(0xFFFFFFFF, 0xFFFFFFFF, 0x00000000) = {Maj(0xFFFFFFFF, 0xFFFFFFFF, 0x00000000):#010x}\")  # Should be 0xFFFFFFFF (majority is 1)\n",
    "\n",
    "# Test 2: Two inputs the same (other pattern)\n",
    "print(f\"Maj(0x00000000, 0xFFFFFFFF, 0xFFFFFFFF) = {Maj(0x00000000, 0xFFFFFFFF, 0xFFFFFFFF):#010x}\")  # Should be 0xFFFFFFFF\n",
    "\n",
    "# Test 3: All same\n",
    "print(f\"Maj(0xAAAAAAAA, 0xAAAAAAAA, 0xAAAAAAAA) = {Maj(0xAAAAAAAA, 0xAAAAAAAA, 0xAAAAAAAA):#010x}\")  # Should be 0xAAAAAAAA"
   ]
  },
  {
   "cell_type": "code",
   "execution_count": null,
   "id": "b7ad2cc4",
   "metadata": {},
   "outputs": [],
   "source": []
  },
  {
   "cell_type": "markdown",
   "id": "ba9621c5",
   "metadata": {},
   "source": [
    "## Problem 2: Fractional Parts of Cube Roots"
   ]
  },
  {
   "cell_type": "code",
   "execution_count": 107,
   "id": "6432a232",
   "metadata": {},
   "outputs": [],
   "source": [
    "# Problem 2"
   ]
  },
  {
   "cell_type": "markdown",
   "id": "3cc13ea8",
   "metadata": {},
   "source": [
    "## Problem 3: Padding"
   ]
  },
  {
   "cell_type": "code",
   "execution_count": 108,
   "id": "4121baf6",
   "metadata": {},
   "outputs": [],
   "source": [
    "# Problem 3"
   ]
  },
  {
   "cell_type": "markdown",
   "id": "75e817af",
   "metadata": {},
   "source": [
    "## Problem 4: Hashes"
   ]
  },
  {
   "cell_type": "code",
   "execution_count": 109,
   "id": "e64d4c93",
   "metadata": {},
   "outputs": [],
   "source": [
    "# Problem 4"
   ]
  },
  {
   "cell_type": "markdown",
   "id": "b7c0a991",
   "metadata": {},
   "source": [
    "## Problem 5: Passwords"
   ]
  },
  {
   "cell_type": "code",
   "execution_count": 110,
   "id": "18081596",
   "metadata": {},
   "outputs": [],
   "source": [
    "# Problem 5"
   ]
  },
  {
   "cell_type": "markdown",
   "id": "1670d5e0",
   "metadata": {},
   "source": [
    "# END"
   ]
  }
 ],
 "metadata": {
  "kernelspec": {
   "display_name": "Python 3",
   "language": "python",
   "name": "python3"
  },
  "language_info": {
   "codemirror_mode": {
    "name": "ipython",
    "version": 3
   },
   "file_extension": ".py",
   "mimetype": "text/x-python",
   "name": "python",
   "nbconvert_exporter": "python",
   "pygments_lexer": "ipython3",
   "version": "3.12.1"
  }
 },
 "nbformat": 4,
 "nbformat_minor": 5
}
