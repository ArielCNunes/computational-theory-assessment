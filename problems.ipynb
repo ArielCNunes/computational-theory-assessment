{
 "cells": [
  {
   "cell_type": "markdown",
   "id": "6fb7bc8a",
   "metadata": {},
   "source": [
    "# COMPUTATIONAL THEORY PROBLEMS\n",
    "SHA-256 uses seven core bitwise functions that operate on 32-bit words. These functions manipulate individual bits using logical operations (AND, OR, XOR, NOT) and bit shifts/rotations. All operations must be performed with 32-bit arithmetic to match the SHA-256 specification."
   ]
  },
  {
   "cell_type": "code",
   "execution_count": 102,
   "id": "bb0b3bc2",
   "metadata": {},
   "outputs": [],
   "source": [
    "# IMPORTS\n",
    "import numpy as np"
   ]
  },
  {
   "cell_type": "markdown",
   "id": "502e3ebc",
   "metadata": {},
   "source": [
    "## Problem 1: Binary Words and Operations\n",
    "### 1.1 Parity Function\n",
    "\n",
    "The Parity function computes the bitwise XOR of three 32-bit words: **Parity(x, y, z) = x ⊕ y ⊕ z**\n",
    "\n",
    "**How it works:** XOR returns 1 when bits are different, 0 when they're the same. When applied to three inputs, each output bit is 1 if an odd number of corresponding input bits are 1 (odd parity), and 0 if an even number are 1 (even parity)."
   ]
  },
  {
   "cell_type": "code",
   "execution_count": 103,
   "id": "a59b6950",
   "metadata": {},
   "outputs": [],
   "source": [
    "def Parity(x, y, z):\n",
    "    \"\"\"\n",
    "    Bitwise parity function for SHA-256.\n",
    "    \n",
    "    Returns the XOR of three 32-bit words: x ⊕ y ⊕ z\n",
    "    \n",
    "    For each bit position, returns 1 if an odd number of inputs \n",
    "    have a 1 bit at that position.\n",
    "    \n",
    "    Args:\n",
    "        x, y, z: 32-bit unsigned integers\n",
    "        \n",
    "    Returns:\n",
    "        32-bit unsigned integer\n",
    "    \"\"\"\n",
    "    x = np.uint32(x)\n",
    "    y = np.uint32(y)\n",
    "    z = np.uint32(z)\n",
    "    \n",
    "    return x ^ y ^ z\n"
   ]
  },
  {
   "cell_type": "code",
   "execution_count": 104,
   "id": "5e662e52",
   "metadata": {},
   "outputs": [
    {
     "name": "stdout",
     "output_type": "stream",
     "text": [
      "Testing Parity:\n",
      "Parity(0xF, 0xF, 0xF) = 0xf\n",
      "Parity(0xABCD, 0x1234, 0x1234) = 0xabcd\n",
      "Parity(0x0, 0x0, 0x0) = 0x0\n",
      "Parity(0xFFFFFFFF, 0xFFFFFFFF, 0xFFFFFFFF) = 0xffffffff\n"
     ]
    }
   ],
   "source": [
    "# Test Parity function\n",
    "print(\"Testing Parity:\")\n",
    "\n",
    "# Test 1: Basic XOR property\n",
    "print(f\"Parity(0xF, 0xF, 0xF) = {Parity(0xF, 0xF, 0xF):#x}\")  # Should be 0xF\n",
    "\n",
    "# Test 2: Cancellation (x ⊕ y ⊕ y = x)\n",
    "print(f\"Parity(0xABCD, 0x1234, 0x1234) = {Parity(0xABCD, 0x1234, 0x1234):#x}\")  # Should be 0xABCD\n",
    "\n",
    "# Test 3: All zeros\n",
    "print(f\"Parity(0x0, 0x0, 0x0) = {Parity(0x0, 0x0, 0x0):#x}\")  # Should be 0x0\n",
    "\n",
    "# Test 4: All ones\n",
    "print(f\"Parity(0xFFFFFFFF, 0xFFFFFFFF, 0xFFFFFFFF) = {Parity(0xFFFFFFFF, 0xFFFFFFFF, 0xFFFFFFFF):#010x}\")  # Should be 0xFFFFFFFF"
   ]
  },
  {
   "cell_type": "code",
   "execution_count": null,
   "id": "b7c68cb9",
   "metadata": {},
   "outputs": [],
   "source": []
  },
  {
   "cell_type": "code",
   "execution_count": null,
   "id": "86e37d96",
   "metadata": {},
   "outputs": [],
   "source": []
  },
  {
   "cell_type": "code",
   "execution_count": null,
   "id": "0104e16b",
   "metadata": {},
   "outputs": [],
   "source": []
  },
  {
   "cell_type": "code",
   "execution_count": null,
   "id": "9e42ec71",
   "metadata": {},
   "outputs": [],
   "source": []
  },
  {
   "cell_type": "code",
   "execution_count": null,
   "id": "b7ad2cc4",
   "metadata": {},
   "outputs": [],
   "source": []
  },
  {
   "cell_type": "markdown",
   "id": "ba9621c5",
   "metadata": {},
   "source": [
    "## Problem 2: Fractional Parts of Cube Roots"
   ]
  },
  {
   "cell_type": "code",
   "execution_count": 105,
   "id": "6432a232",
   "metadata": {},
   "outputs": [],
   "source": [
    "# Problem 2"
   ]
  },
  {
   "cell_type": "markdown",
   "id": "3cc13ea8",
   "metadata": {},
   "source": [
    "## Problem 3: Padding"
   ]
  },
  {
   "cell_type": "code",
   "execution_count": 106,
   "id": "4121baf6",
   "metadata": {},
   "outputs": [],
   "source": [
    "# Problem 3"
   ]
  },
  {
   "cell_type": "markdown",
   "id": "75e817af",
   "metadata": {},
   "source": [
    "## Problem 4: Hashes"
   ]
  },
  {
   "cell_type": "code",
   "execution_count": 107,
   "id": "e64d4c93",
   "metadata": {},
   "outputs": [],
   "source": [
    "# Problem 4"
   ]
  },
  {
   "cell_type": "markdown",
   "id": "b7c0a991",
   "metadata": {},
   "source": [
    "## Problem 5: Passwords"
   ]
  },
  {
   "cell_type": "code",
   "execution_count": 108,
   "id": "18081596",
   "metadata": {},
   "outputs": [],
   "source": [
    "# Problem 5"
   ]
  },
  {
   "cell_type": "markdown",
   "id": "1670d5e0",
   "metadata": {},
   "source": [
    "# END"
   ]
  }
 ],
 "metadata": {
  "kernelspec": {
   "display_name": "Python 3",
   "language": "python",
   "name": "python3"
  },
  "language_info": {
   "codemirror_mode": {
    "name": "ipython",
    "version": 3
   },
   "file_extension": ".py",
   "mimetype": "text/x-python",
   "name": "python",
   "nbconvert_exporter": "python",
   "pygments_lexer": "ipython3",
   "version": "3.12.1"
  }
 },
 "nbformat": 4,
 "nbformat_minor": 5
}
