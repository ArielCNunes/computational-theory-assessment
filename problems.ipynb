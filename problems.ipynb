{
 "cells": [
  {
   "cell_type": "markdown",
   "id": "6fb7bc8a",
   "metadata": {},
   "source": [
    "# COMPUTATIONAL THEORY PROBLEMS"
   ]
  },
  {
   "cell_type": "code",
   "execution_count": 120,
   "id": "bb0b3bc2",
   "metadata": {},
   "outputs": [],
   "source": [
    "# IMPORTS\n",
    "import numpy as np"
   ]
  },
  {
   "cell_type": "markdown",
   "id": "502e3ebc",
   "metadata": {},
   "source": [
    "## Problem 1: Binary Words and Operations\n",
    "SHA-256 uses seven core bitwise functions that operate on 32-bit words. These functions manipulate individual bits using logical operations (```AND, OR, XOR, NOT```) and bit shifts/rotations. All operations must be performed with 32-bit arithmetic to match the SHA-256 specification."
   ]
  },
  {
   "cell_type": "markdown",
   "id": "b71ff21c",
   "metadata": {},
   "source": [
    "### 1.1 Parity Function - computes the bitwise XOR of three 32-bit words\n",
    "\n",
    "**How this function works:** It takes three integers and converts them to 32-bit integers (``` np.uint32 ```). It performs ```XOR``` operations which compare bits pairwise, returning 1 when bits are different and 0 when they're the same."
   ]
  },
  {
   "cell_type": "code",
   "execution_count": 121,
   "id": "a59b6950",
   "metadata": {},
   "outputs": [],
   "source": [
    "def Parity(x, y, z):\n",
    "    \"\"\"\n",
    "    Bitwise parity function for SHA-256.\n",
    "    \n",
    "    Returns the XOR of three 32-bit words: x ⊕ y ⊕ z\n",
    "    \n",
    "    For each bit position, returns 1 if an odd number of inputs \n",
    "    have a 1 bit at that position.\n",
    "    \n",
    "    Args:\n",
    "        x, y, z: 32-bit unsigned integers\n",
    "        \n",
    "    Returns:\n",
    "        32-bit unsigned integer\n",
    "    \"\"\"\n",
    "    x = np.uint32(x)\n",
    "    y = np.uint32(y)\n",
    "    z = np.uint32(z)\n",
    "    \n",
    "    return x ^ y ^ z\n"
   ]
  },
  {
   "cell_type": "code",
   "execution_count": 122,
   "id": "5e662e52",
   "metadata": {},
   "outputs": [
    {
     "name": "stdout",
     "output_type": "stream",
     "text": [
      "Testing Parity:\n",
      "Parity(0xF, 0xF, 0xF) = 0xf\n",
      "Parity(0xABCD, 0x1234, 0x1234) = 0xabcd\n",
      "Parity(0x0, 0x0, 0x0) = 0x0\n",
      "Parity(0xFFFFFFFF, 0xFFFFFFFF, 0xFFFFFFFF) = 0xffffffff\n"
     ]
    }
   ],
   "source": [
    "# Test Parity function\n",
    "print(\"Testing Parity:\")\n",
    "\n",
    "# Test 1: Basic XOR property\n",
    "print(f\"Parity(0xF, 0xF, 0xF) = {Parity(0xF, 0xF, 0xF):#x}\")  # Should be 0xF\n",
    "\n",
    "# Test 2: Cancellation (x ⊕ y ⊕ y = x)\n",
    "print(f\"Parity(0xABCD, 0x1234, 0x1234) = {Parity(0xABCD, 0x1234, 0x1234):#x}\")  # Should be 0xABCD\n",
    "\n",
    "# Test 3: All zeros\n",
    "print(f\"Parity(0x0, 0x0, 0x0) = {Parity(0x0, 0x0, 0x0):#x}\")  # Should be 0x0\n",
    "\n",
    "# Test 4: All ones\n",
    "print(f\"Parity(0xFFFFFFFF, 0xFFFFFFFF, 0xFFFFFFFF) = {Parity(0xFFFFFFFF, 0xFFFFFFFF, 0xFFFFFFFF):#010x}\")  # Should be 0xFFFFFFFF"
   ]
  },
  {
   "cell_type": "markdown",
   "id": "6fc1f2c7",
   "metadata": {},
   "source": [
    "### 1.2 Ch (Choose) Function - Select bits from y or z based on x\n",
    "\n",
    "**How this function works:** The idea here is the same as in the Parity function (see 1.1) but instead of only doing ```XOR``` operations we first do an ```AND``` operation between x and y, then we do an ```AND``` operation between the ```NOT``` of x and z. Finally, we ```XOR``` these two results together. The ```AND``` operations act as filters that select which bits to keep from y and z, while the ```XOR``` combines them into the final result. \n",
    "\n",
    "```(x & y)``` is just a basic ```AND``` operation (if both bits are 1 it returns 1). \n",
    "\n",
    "```(~x & z)``` flips all bits in x before carrying out the ```AND``` operation with z.\n",
    "\n",
    "We then XOR the result of these two operations."
   ]
  },
  {
   "cell_type": "code",
   "execution_count": 123,
   "id": "b7c68cb9",
   "metadata": {},
   "outputs": [],
   "source": [
    "def Ch(x, y, z):\n",
    "    \"\"\"\n",
    "    Bitwise choice function for SHA-256.\n",
    "    \n",
    "    For each bit position, returns the bit from y if the corresponding\n",
    "    bit in x is 1, otherwise returns the bit from z\n",
    "\n",
    "    Args:\n",
    "        x, y, z: 32-bit unsigned integers\n",
    "\n",
    "    Returns:\n",
    "        32-bit unsigned integer result of the bitwise choice operation\n",
    "    \"\"\"\n",
    "    x = np.uint32(x)\n",
    "    y = np.uint32(y)\n",
    "    z = np.uint32(z)\n",
    "    \n",
    "    return (x & y) ^ (~x & z)"
   ]
  },
  {
   "cell_type": "code",
   "execution_count": 124,
   "id": "86e37d96",
   "metadata": {},
   "outputs": [
    {
     "name": "stdout",
     "output_type": "stream",
     "text": [
      "Testing Ch:\n",
      "Ch(0xFFFFFFFF, 0xAAAAAAAA, 0x55555555) =  2863311530\n",
      "Ch(0x00000000, 0xAAAAAAAA, 0x55555555) = 0x55555555\n",
      "Ch(0xF0F0F0F0, 0xFFFFFFFF, 0x00000000) = 0xf0f0f0f0\n"
     ]
    }
   ],
   "source": [
    "# Test Ch function\n",
    "print(\"Testing Ch:\")\n",
    "\n",
    "# Test 1: All 1s in x selects -> y entirely\n",
    "print(f\"Ch(0xFFFFFFFF, 0xAAAAAAAA, 0x55555555) = {Ch(0xFFFFFFFF, 0xAAAAAAAA, 0x55555555): }\")  # Should be 0xAAAAAAAA\n",
    "\n",
    "# Test 2: All 0s in x selects -> z entirely\n",
    "print(f\"Ch(0x00000000, 0xAAAAAAAA, 0x55555555) = {Ch(0x00000000, 0xAAAAAAAA, 0x55555555):#010x}\")  # Should be 0x55555555\n",
    "\n",
    "# Test 3: Mixed selector - alternates between y and z\n",
    "print(f\"Ch(0xF0F0F0F0, 0xFFFFFFFF, 0x00000000) = {Ch(0xF0F0F0F0, 0xFFFFFFFF, 0x00000000):#010x}\")  # Should be 0xF0F0F0F0"
   ]
  },
  {
   "cell_type": "markdown",
   "id": "0ff2e845",
   "metadata": {},
   "source": [
    "### 1.3 Maj (Majority) Function - Returns the value that appears in at least 2 out of 3 inputs\n",
    "\n",
    "**How this function works:** We perform three ```AND``` operations to find where pairs of inputs are the same (`x & y`, `x & z`, `y & z`), then ```XOR``` these results together. This produces 1 at positions where at least two inputs have 1."
   ]
  },
  {
   "cell_type": "code",
   "execution_count": 125,
   "id": "0104e16b",
   "metadata": {},
   "outputs": [],
   "source": [
    "def Maj(x, y, z):\n",
    "    \"\"\"\n",
    "    Majority function for SHA-256.\n",
    "    \n",
    "    Maj(x, y, z) = (x ∧ y) ⊕ (x ∧ z) ⊕ (y ∧ z)\n",
    "    \n",
    "    For each bit position, returns the bit value that appears \n",
    "    in at least 2 of the 3 inputs (the majority).\n",
    "    \n",
    "    Args:\n",
    "        x, y, z: 32-bit unsigned integers\n",
    "        \n",
    "    Returns:\n",
    "        32-bit unsigned integer\n",
    "    \"\"\"\n",
    "    x = np.uint32(x)\n",
    "    y = np.uint32(y)\n",
    "    z = np.uint32(z)\n",
    "    \n",
    "    return (x & y) ^ (x & z) ^ (y & z)"
   ]
  },
  {
   "cell_type": "code",
   "execution_count": 126,
   "id": "9e42ec71",
   "metadata": {},
   "outputs": [
    {
     "name": "stdout",
     "output_type": "stream",
     "text": [
      "Testing Maj:\n",
      "Maj(0xFFFFFFFF, 0xFFFFFFFF, 0x00000000) = 0xffffffff\n",
      "Maj(0x00000000, 0xFFFFFFFF, 0xFFFFFFFF) = 0xffffffff\n",
      "Maj(0xAAAAAAAA, 0xAAAAAAAA, 0xAAAAAAAA) = 0xaaaaaaaa\n"
     ]
    }
   ],
   "source": [
    "# Test Maj function\n",
    "print(\"Testing Maj:\")\n",
    "\n",
    "# Test 1: Two inputs the same\n",
    "print(f\"Maj(0xFFFFFFFF, 0xFFFFFFFF, 0x00000000) = {Maj(0xFFFFFFFF, 0xFFFFFFFF, 0x00000000):#010x}\")  # Should be 0xFFFFFFFF (majority is 1)\n",
    "\n",
    "# Test 2: Two inputs the same (other pattern)\n",
    "print(f\"Maj(0x00000000, 0xFFFFFFFF, 0xFFFFFFFF) = {Maj(0x00000000, 0xFFFFFFFF, 0xFFFFFFFF):#010x}\")  # Should be 0xFFFFFFFF\n",
    "\n",
    "# Test 3: All same\n",
    "print(f\"Maj(0xAAAAAAAA, 0xAAAAAAAA, 0xAAAAAAAA) = {Maj(0xAAAAAAAA, 0xAAAAAAAA, 0xAAAAAAAA):#010x}\")  # Should be 0xAAAAAAAA"
   ]
  },
  {
   "cell_type": "markdown",
   "id": "d2b371e1",
   "metadata": {},
   "source": [
    "### 1.4 - 1.7 Rotation and Shift Operations\n",
    "\n",
    "**How these functions work:** These four functions use rotation (ROTR) and shift (SHR) operations instead of logical operations. \n",
    "\n",
    "**ROTR^n(x)** (Rotate Right): Moves all bits n positions to the right. Bits that fall off the right side are placed back in the left side. No bits are lost.\n",
    "\n",
    "**SHR^n(x)** (Shift Right): Moves all bits n positions to the right. Bits that fall off the right are lost, and we fill the empty slots with zeros.\n",
    "\n",
    "**Functions 1.4-1.5 (Σ₀ and Σ₁):** Use only ROTR operations.\n",
    "\n",
    "**Functions 1.6-1.7 (σ₀ and σ₁):** Use both ROTR and SHR operations."
   ]
  },
  {
   "cell_type": "code",
   "execution_count": 127,
   "id": "b7ad2cc4",
   "metadata": {},
   "outputs": [],
   "source": [
    "# Rotate Right\n",
    "def ROTR(x, n):\n",
    "    \"\"\"\n",
    "    Rotate right (circular right shift).\n",
    "    \n",
    "    ROTR^n(x) = (x >> n) ∨ (x << (32 - n))\n",
    "    \n",
    "    Moves bits n positions to the right, placing bits that \n",
    "    fall off back to the left side.\n",
    "    \n",
    "    Args:\n",
    "        x: 32-bit unsigned integer\n",
    "        n: number of positions to rotate (needs to be in range 0-31 and >= 0)\n",
    "        \n",
    "    Returns:\n",
    "        32-bit unsigned integer\n",
    "    \"\"\"\n",
    "    x = np.uint32(x)\n",
    "    \n",
    "    return (x >> n) | (x << (32 - n))"
   ]
  },
  {
   "cell_type": "code",
   "execution_count": 128,
   "id": "5566c799",
   "metadata": {},
   "outputs": [],
   "source": [
    "# Shift Right\n",
    "def SHR(x, n):\n",
    "    \"\"\"\n",
    "    Shift right.\n",
    "    \n",
    "    SHR^n(x) = x >> n (shift by n times)\n",
    "    \n",
    "    Moves bits n positions to the right, filling left side with zeros.\n",
    "    Bits that fall off the right get lost.\n",
    "    \n",
    "    Args:\n",
    "        x: 32-bit unsigned integer\n",
    "        n: number of positions to shift (0 ≤ n < 32)\n",
    "        \n",
    "    Returns:\n",
    "        32-bit unsigned integer\n",
    "    \"\"\"\n",
    "    x = np.uint32(x)\n",
    "    \n",
    "    return x >> n"
   ]
  },
  {
   "cell_type": "markdown",
   "id": "7c414701",
   "metadata": {},
   "source": [
    "### 1.4 Sigma0 (Σ₀)\n",
    "\n",
    "Combines three rotations of x (by 2, 13, and 22 bits in this case) using ```XOR```. Creates diffusion by mixing bits from different positions."
   ]
  },
  {
   "cell_type": "code",
   "execution_count": 129,
   "id": "9fcfd053",
   "metadata": {},
   "outputs": [],
   "source": [
    "def Sigma0(x):\n",
    "    \"\"\"\n",
    "    Sigma0 function for SHA-256 (uppercase sigma).\n",
    "    \n",
    "    Σ₀(x) = ROTR²(x) ⊕ ROTR¹³(x) ⊕ ROTR²²(x)\n",
    "\n",
    "    Used in the compression function to create diffusion (equation 4.4).\n",
    "    \n",
    "    Args:\n",
    "        x: 32-bit unsigned integer\n",
    "        \n",
    "    Returns:\n",
    "        32-bit unsigned integer\n",
    "    \"\"\"\n",
    "    x = np.uint32(x)\n",
    "    \n",
    "    return ROTR(x, 2) ^ ROTR(x, 13) ^ ROTR(x, 22)"
   ]
  },
  {
   "cell_type": "code",
   "execution_count": 130,
   "id": "6e6c6e7e",
   "metadata": {},
   "outputs": [
    {
     "name": "stdout",
     "output_type": "stream",
     "text": [
      "Testing Sigma0:\n",
      "Sigma0(0x00000000) = 0x00000000\n",
      "Sigma0(0xFFFFFFFF) = 0XFFFFFFFF\n",
      "Sigma0(0x12345678) = 0x66146474\n"
     ]
    }
   ],
   "source": [
    "# Test Sigma0\n",
    "print(\"Testing Sigma0:\")\n",
    "print(f\"Sigma0(0x00000000) = {Sigma0(0x00000000):#010x}\")  # Should be 0x00000000\n",
    "print(f\"Sigma0(0xFFFFFFFF) = {Sigma0(0xFFFFFFFF):#010X}\")  # Should be 0xFFFFFFFF\n",
    "print(f\"Sigma0(0x12345678) = {Sigma0(0x12345678):#010x}\")  # Real scrambling testing"
   ]
  },
  {
   "cell_type": "markdown",
   "id": "5a777741",
   "metadata": {},
   "source": [
    "### 1.5 Sigma1 (Σ₁)\n",
    "\n",
    "Combines three rotations of x (by 6, 11, and 25 bits) using ```XOR```. Same structure as Sigma0 but with different rotation amounts."
   ]
  },
  {
   "cell_type": "code",
   "execution_count": 131,
   "id": "5acaec54",
   "metadata": {},
   "outputs": [],
   "source": [
    "def Sigma1(x):\n",
    "    \"\"\"\n",
    "    Sigma1 function for SHA-256 (uppercase sigma).\n",
    "    \n",
    "    Σ₁(x) = ROTR⁶(x) ⊕ ROTR¹¹(x) ⊕ ROTR²⁵(x)\n",
    "    \n",
    "    Used in the main hash computation loop (equation 4.5).\n",
    "    \n",
    "    Args:\n",
    "        x: 32-bit unsigned integer\n",
    "        \n",
    "    Returns:\n",
    "        32-bit unsigned integer\n",
    "    \"\"\"\n",
    "    x = np.uint32(x)\n",
    "    \n",
    "    return ROTR(x, 6) ^ ROTR(x, 11) ^ ROTR(x, 25)"
   ]
  },
  {
   "cell_type": "code",
   "execution_count": 132,
   "id": "424a4779",
   "metadata": {},
   "outputs": [
    {
     "name": "stdout",
     "output_type": "stream",
     "text": [
      "Testing Sigma1:\n",
      "Sigma1(0x00000000) = 0x00000000\n",
      "Sigma1(0xFFFFFFFF) = 0xffffffff\n",
      "Sigma1(0x12345678) = 0x3561abda\n"
     ]
    }
   ],
   "source": [
    "# Test Sigma1\n",
    "print(\"Testing Sigma1:\")\n",
    "print(f\"Sigma1(0x00000000) = {Sigma1(0x00000000):#010x}\")  # Should be 0x00000000\n",
    "print(f\"Sigma1(0xFFFFFFFF) = {Sigma1(0xFFFFFFFF):#010x}\")  # Should be 0xFFFFFFFF\n",
    "print(f\"Sigma1(0x12345678) = {Sigma1(0x12345678):#010x}\")  # Real scrambling testing"
   ]
  },
  {
   "cell_type": "markdown",
   "id": "ba9621c5",
   "metadata": {},
   "source": [
    "## Problem 2: Fractional Parts of Cube Roots"
   ]
  },
  {
   "cell_type": "code",
   "execution_count": 133,
   "id": "6432a232",
   "metadata": {},
   "outputs": [],
   "source": [
    "# Problem 2"
   ]
  },
  {
   "cell_type": "markdown",
   "id": "3cc13ea8",
   "metadata": {},
   "source": [
    "## Problem 3: Padding"
   ]
  },
  {
   "cell_type": "code",
   "execution_count": 134,
   "id": "4121baf6",
   "metadata": {},
   "outputs": [],
   "source": [
    "# Problem 3"
   ]
  },
  {
   "cell_type": "markdown",
   "id": "75e817af",
   "metadata": {},
   "source": [
    "## Problem 4: Hashes"
   ]
  },
  {
   "cell_type": "code",
   "execution_count": 135,
   "id": "e64d4c93",
   "metadata": {},
   "outputs": [],
   "source": [
    "# Problem 4"
   ]
  },
  {
   "cell_type": "markdown",
   "id": "b7c0a991",
   "metadata": {},
   "source": [
    "## Problem 5: Passwords"
   ]
  },
  {
   "cell_type": "code",
   "execution_count": 136,
   "id": "18081596",
   "metadata": {},
   "outputs": [],
   "source": [
    "# Problem 5"
   ]
  },
  {
   "cell_type": "markdown",
   "id": "8fa8fadd",
   "metadata": {},
   "source": [
    "## References\n"
   ]
  },
  {
   "cell_type": "markdown",
   "id": "1670d5e0",
   "metadata": {},
   "source": [
    "# END"
   ]
  }
 ],
 "metadata": {
  "kernelspec": {
   "display_name": "Python 3",
   "language": "python",
   "name": "python3"
  },
  "language_info": {
   "codemirror_mode": {
    "name": "ipython",
    "version": 3
   },
   "file_extension": ".py",
   "mimetype": "text/x-python",
   "name": "python",
   "nbconvert_exporter": "python",
   "pygments_lexer": "ipython3",
   "version": "3.12.1"
  }
 },
 "nbformat": 4,
 "nbformat_minor": 5
}
